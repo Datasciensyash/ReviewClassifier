{
 "cells": [
  {
   "cell_type": "code",
   "execution_count": 3,
   "metadata": {},
   "outputs": [],
   "source": [
    "import pandas as pd\n",
    "import wandb"
   ]
  },
  {
   "cell_type": "markdown",
   "metadata": {},
   "source": [
    "Формирование отчета об оптимизации гиперпараметров"
   ]
  },
  {
   "cell_type": "code",
   "execution_count": 8,
   "metadata": {},
   "outputs": [],
   "source": [
    "api = wandb.Api()\n",
    "\n",
    "# Change oreilly-class/cifar to <entity/project-name>\n",
    "runs = api.runs(\"datasciensyash/review_classifier/\")\n",
    "summary_list = [] \n",
    "config_list = [] \n",
    "name_list = [] \n",
    "for run in runs: \n",
    "    summary_list.append(run.summary._json_dict) \n",
    "    config_list.append({k:v for k,v in run.config.items() if not k.startswith('_')}) \n",
    "    name_list.append(run.name)       \n",
    "\n",
    "summary_df = pd.DataFrame.from_records(summary_list) \n",
    "config_df = pd.DataFrame.from_records(config_list) \n",
    "name_df = pd.DataFrame({'name': name_list}) \n",
    "all_df = pd.concat([name_df, config_df,summary_df], axis=1)\n",
    "\n",
    "del all_df['score']\n",
    "all_df = all_df.dropna()\n",
    "all_df.to_csv(\"HyperoptInfo.csv\")"
   ]
  }
 ],
 "metadata": {
  "kernelspec": {
   "display_name": "Python 3",
   "language": "python",
   "name": "python3"
  },
  "language_info": {
   "codemirror_mode": {
    "name": "ipython",
    "version": 3
   },
   "file_extension": ".py",
   "mimetype": "text/x-python",
   "name": "python",
   "nbconvert_exporter": "python",
   "pygments_lexer": "ipython3",
   "version": "3.7.4"
  }
 },
 "nbformat": 4,
 "nbformat_minor": 2
}
