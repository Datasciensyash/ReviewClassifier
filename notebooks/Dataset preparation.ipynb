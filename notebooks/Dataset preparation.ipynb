{
 "cells": [
  {
   "cell_type": "code",
   "execution_count": 1,
   "metadata": {},
   "outputs": [],
   "source": [
    "import os\n",
    "import plotly.graph_objects as go\n",
    "from tqdm import tqdm\n",
    "\n",
    "import pandas as pd\n",
    "import numpy as np\n",
    "\n",
    "from sklearn.model_selection import train_test_split\n",
    "from sklearn.model_selection import cross_val_score\n",
    "from sklearn.metrics import classification_report"
   ]
  },
  {
   "cell_type": "markdown",
   "metadata": {},
   "source": [
    "Dataset pereparation"
   ]
  },
  {
   "cell_type": "code",
   "execution_count": 2,
   "metadata": {},
   "outputs": [],
   "source": [
    "POS_TARGET = 1\n",
    "NEG_TARGET = 0\n",
    "\n",
    "train_dir_pos = './dataset/train/pos/'\n",
    "train_dir_neg = './dataset/train/neg/'\n",
    "\n",
    "test_dir_pos = './dataset/test/pos/'\n",
    "test_dir_neg = './dataset/test/neg/'\n",
    "\n",
    "unlabeled_dir = './dataset/train/unsup/'"
   ]
  },
  {
   "cell_type": "markdown",
   "metadata": {},
   "source": [
    "Unsupervied"
   ]
  },
  {
   "cell_type": "code",
   "execution_count": 3,
   "metadata": {},
   "outputs": [
    {
     "name": "stderr",
     "output_type": "stream",
     "text": [
      "100%|███████████████████████████████████████████████████████████████████████████| 50000/50000 [03:09<00:00, 263.45it/s]\n"
     ]
    },
    {
     "data": {
      "text/html": [
       "<div>\n",
       "<style scoped>\n",
       "    .dataframe tbody tr th:only-of-type {\n",
       "        vertical-align: middle;\n",
       "    }\n",
       "\n",
       "    .dataframe tbody tr th {\n",
       "        vertical-align: top;\n",
       "    }\n",
       "\n",
       "    .dataframe thead th {\n",
       "        text-align: right;\n",
       "    }\n",
       "</style>\n",
       "<table border=\"1\" class=\"dataframe\">\n",
       "  <thead>\n",
       "    <tr style=\"text-align: right;\">\n",
       "      <th></th>\n",
       "      <th>Text</th>\n",
       "    </tr>\n",
       "  </thead>\n",
       "  <tbody>\n",
       "    <tr>\n",
       "      <td>0</td>\n",
       "      <td>I admit, the great majority of films released ...</td>\n",
       "    </tr>\n",
       "    <tr>\n",
       "      <td>1</td>\n",
       "      <td>Take a low budget, inexperienced actors doubli...</td>\n",
       "    </tr>\n",
       "    <tr>\n",
       "      <td>2</td>\n",
       "      <td>Everybody has seen 'Back To The Future,' right...</td>\n",
       "    </tr>\n",
       "    <tr>\n",
       "      <td>3</td>\n",
       "      <td>Doris Day was an icon of beauty in singing and...</td>\n",
       "    </tr>\n",
       "    <tr>\n",
       "      <td>4</td>\n",
       "      <td>After a series of silly, fun-loving movies, 19...</td>\n",
       "    </tr>\n",
       "    <tr>\n",
       "      <td>...</td>\n",
       "      <td>...</td>\n",
       "    </tr>\n",
       "    <tr>\n",
       "      <td>49995</td>\n",
       "      <td>Delightfully awful! Made by David Giancola, a ...</td>\n",
       "    </tr>\n",
       "    <tr>\n",
       "      <td>49996</td>\n",
       "      <td>Watching Time Chasers, it obvious that it was ...</td>\n",
       "    </tr>\n",
       "    <tr>\n",
       "      <td>49997</td>\n",
       "      <td>At the beginning we can see members of Troma t...</td>\n",
       "    </tr>\n",
       "    <tr>\n",
       "      <td>49998</td>\n",
       "      <td>The movie was incredible, ever since I saw it ...</td>\n",
       "    </tr>\n",
       "    <tr>\n",
       "      <td>49999</td>\n",
       "      <td>TCM came through by acquiring this wonderful, ...</td>\n",
       "    </tr>\n",
       "  </tbody>\n",
       "</table>\n",
       "<p>50000 rows × 1 columns</p>\n",
       "</div>"
      ],
      "text/plain": [
       "                                                    Text\n",
       "0      I admit, the great majority of films released ...\n",
       "1      Take a low budget, inexperienced actors doubli...\n",
       "2      Everybody has seen 'Back To The Future,' right...\n",
       "3      Doris Day was an icon of beauty in singing and...\n",
       "4      After a series of silly, fun-loving movies, 19...\n",
       "...                                                  ...\n",
       "49995  Delightfully awful! Made by David Giancola, a ...\n",
       "49996  Watching Time Chasers, it obvious that it was ...\n",
       "49997  At the beginning we can see members of Troma t...\n",
       "49998  The movie was incredible, ever since I saw it ...\n",
       "49999  TCM came through by acquiring this wonderful, ...\n",
       "\n",
       "[50000 rows x 1 columns]"
      ]
     },
     "execution_count": 3,
     "metadata": {},
     "output_type": "execute_result"
    }
   ],
   "source": [
    "corpus = [] \n",
    "for file in tqdm(os.listdir(unlabeled_dir)):\n",
    "    with open(unlabeled_dir + file, 'r', encoding='utf-8') as f:\n",
    "        corpus.append([f.read()])\n",
    "        \n",
    "unsupervised_df = pd.DataFrame(corpus, columns=['Text'])\n",
    "unsupervised_df.to_pickle('dataset/unsup.pkl')\n",
    "unsupervised_df"
   ]
  },
  {
   "cell_type": "markdown",
   "metadata": {},
   "source": [
    "Supervised"
   ]
  },
  {
   "cell_type": "code",
   "execution_count": 4,
   "metadata": {},
   "outputs": [
    {
     "name": "stderr",
     "output_type": "stream",
     "text": [
      "100%|█████████████████████████████████████████████████████████████████████████| 12500/12500 [00:00<00:00, 13904.35it/s]\n",
      "100%|█████████████████████████████████████████████████████████████████████████| 12500/12500 [00:00<00:00, 12919.36it/s]\n"
     ]
    }
   ],
   "source": [
    "corpus = [] \n",
    "for file in tqdm(os.listdir(train_dir_pos)):\n",
    "    with open(train_dir_pos + file, 'r', encoding='utf-8') as f:\n",
    "        corpus.append([POS_TARGET, f.read()])\n",
    "        \n",
    "for file in tqdm(os.listdir(train_dir_neg)):\n",
    "    with open(train_dir_neg + file, 'r', encoding='utf-8') as f:\n",
    "        corpus.append([NEG_TARGET, f.read()])\n",
    "\n",
    "train_df = pd.DataFrame(corpus, columns=['Target', 'Text'])\n",
    "\n",
    "train_df.loc[0:5, :].to_csv('example.csv', index=False)"
   ]
  },
  {
   "cell_type": "code",
   "execution_count": 5,
   "metadata": {},
   "outputs": [
    {
     "data": {
      "text/html": [
       "<div>\n",
       "<style scoped>\n",
       "    .dataframe tbody tr th:only-of-type {\n",
       "        vertical-align: middle;\n",
       "    }\n",
       "\n",
       "    .dataframe tbody tr th {\n",
       "        vertical-align: top;\n",
       "    }\n",
       "\n",
       "    .dataframe thead th {\n",
       "        text-align: right;\n",
       "    }\n",
       "</style>\n",
       "<table border=\"1\" class=\"dataframe\">\n",
       "  <thead>\n",
       "    <tr style=\"text-align: right;\">\n",
       "      <th></th>\n",
       "      <th>Target</th>\n",
       "      <th>Text</th>\n",
       "    </tr>\n",
       "  </thead>\n",
       "  <tbody>\n",
       "    <tr>\n",
       "      <td>0</td>\n",
       "      <td>1</td>\n",
       "      <td>Bromwell High is a cartoon comedy. It ran at t...</td>\n",
       "    </tr>\n",
       "    <tr>\n",
       "      <td>1</td>\n",
       "      <td>1</td>\n",
       "      <td>Homelessness (or Houselessness as George Carli...</td>\n",
       "    </tr>\n",
       "    <tr>\n",
       "      <td>2</td>\n",
       "      <td>1</td>\n",
       "      <td>Brilliant over-acting by Lesley Ann Warren. Be...</td>\n",
       "    </tr>\n",
       "    <tr>\n",
       "      <td>3</td>\n",
       "      <td>1</td>\n",
       "      <td>This is easily the most underrated film inn th...</td>\n",
       "    </tr>\n",
       "    <tr>\n",
       "      <td>4</td>\n",
       "      <td>1</td>\n",
       "      <td>This is not the typical Mel Brooks film. It wa...</td>\n",
       "    </tr>\n",
       "    <tr>\n",
       "      <td>...</td>\n",
       "      <td>...</td>\n",
       "      <td>...</td>\n",
       "    </tr>\n",
       "    <tr>\n",
       "      <td>24995</td>\n",
       "      <td>0</td>\n",
       "      <td>Towards the end of the movie, I felt it was to...</td>\n",
       "    </tr>\n",
       "    <tr>\n",
       "      <td>24996</td>\n",
       "      <td>0</td>\n",
       "      <td>This is the kind of movie that my enemies cont...</td>\n",
       "    </tr>\n",
       "    <tr>\n",
       "      <td>24997</td>\n",
       "      <td>0</td>\n",
       "      <td>I saw 'Descent' last night at the Stockholm Fi...</td>\n",
       "    </tr>\n",
       "    <tr>\n",
       "      <td>24998</td>\n",
       "      <td>0</td>\n",
       "      <td>Some films that you pick up for a pound turn o...</td>\n",
       "    </tr>\n",
       "    <tr>\n",
       "      <td>24999</td>\n",
       "      <td>0</td>\n",
       "      <td>This is one of the dumbest films, I've ever se...</td>\n",
       "    </tr>\n",
       "  </tbody>\n",
       "</table>\n",
       "<p>25000 rows × 2 columns</p>\n",
       "</div>"
      ],
      "text/plain": [
       "       Target                                               Text\n",
       "0           1  Bromwell High is a cartoon comedy. It ran at t...\n",
       "1           1  Homelessness (or Houselessness as George Carli...\n",
       "2           1  Brilliant over-acting by Lesley Ann Warren. Be...\n",
       "3           1  This is easily the most underrated film inn th...\n",
       "4           1  This is not the typical Mel Brooks film. It wa...\n",
       "...       ...                                                ...\n",
       "24995       0  Towards the end of the movie, I felt it was to...\n",
       "24996       0  This is the kind of movie that my enemies cont...\n",
       "24997       0  I saw 'Descent' last night at the Stockholm Fi...\n",
       "24998       0  Some films that you pick up for a pound turn o...\n",
       "24999       0  This is one of the dumbest films, I've ever se...\n",
       "\n",
       "[25000 rows x 2 columns]"
      ]
     },
     "execution_count": 5,
     "metadata": {},
     "output_type": "execute_result"
    }
   ],
   "source": [
    "train_df"
   ]
  },
  {
   "cell_type": "code",
   "execution_count": 6,
   "metadata": {},
   "outputs": [
    {
     "name": "stderr",
     "output_type": "stream",
     "text": [
      "100%|███████████████████████████████████████████████████████████████████████████| 12500/12500 [00:50<00:00, 245.84it/s]\n",
      "100%|███████████████████████████████████████████████████████████████████████████| 12500/12500 [00:59<00:00, 209.84it/s]\n"
     ]
    }
   ],
   "source": [
    "corpus = [] \n",
    "for file in tqdm(os.listdir(test_dir_pos)):\n",
    "    with open(test_dir_pos + file, 'r', encoding='utf-8') as f:\n",
    "        corpus.append([POS_TARGET, f.read()])\n",
    "        \n",
    "for file in tqdm(os.listdir(test_dir_neg)):\n",
    "    with open(test_dir_neg + file, 'r', encoding='utf-8') as f:\n",
    "        corpus.append([NEG_TARGET, f.read()])\n",
    "\n",
    "test_df = pd.DataFrame(corpus, columns=['Target', 'Text'])"
   ]
  },
  {
   "cell_type": "code",
   "execution_count": 7,
   "metadata": {},
   "outputs": [
    {
     "data": {
      "text/html": [
       "<div>\n",
       "<style scoped>\n",
       "    .dataframe tbody tr th:only-of-type {\n",
       "        vertical-align: middle;\n",
       "    }\n",
       "\n",
       "    .dataframe tbody tr th {\n",
       "        vertical-align: top;\n",
       "    }\n",
       "\n",
       "    .dataframe thead th {\n",
       "        text-align: right;\n",
       "    }\n",
       "</style>\n",
       "<table border=\"1\" class=\"dataframe\">\n",
       "  <thead>\n",
       "    <tr style=\"text-align: right;\">\n",
       "      <th></th>\n",
       "      <th>Target</th>\n",
       "      <th>Text</th>\n",
       "    </tr>\n",
       "  </thead>\n",
       "  <tbody>\n",
       "    <tr>\n",
       "      <td>0</td>\n",
       "      <td>1</td>\n",
       "      <td>I went and saw this movie last night after bei...</td>\n",
       "    </tr>\n",
       "    <tr>\n",
       "      <td>1</td>\n",
       "      <td>1</td>\n",
       "      <td>Actor turned director Bill Paxton follows up h...</td>\n",
       "    </tr>\n",
       "    <tr>\n",
       "      <td>2</td>\n",
       "      <td>1</td>\n",
       "      <td>As a recreational golfer with some knowledge o...</td>\n",
       "    </tr>\n",
       "    <tr>\n",
       "      <td>3</td>\n",
       "      <td>1</td>\n",
       "      <td>I saw this film in a sneak preview, and it is ...</td>\n",
       "    </tr>\n",
       "    <tr>\n",
       "      <td>4</td>\n",
       "      <td>1</td>\n",
       "      <td>Bill Paxton has taken the true story of the 19...</td>\n",
       "    </tr>\n",
       "    <tr>\n",
       "      <td>...</td>\n",
       "      <td>...</td>\n",
       "      <td>...</td>\n",
       "    </tr>\n",
       "    <tr>\n",
       "      <td>24995</td>\n",
       "      <td>0</td>\n",
       "      <td>I occasionally let my kids watch this garbage ...</td>\n",
       "    </tr>\n",
       "    <tr>\n",
       "      <td>24996</td>\n",
       "      <td>0</td>\n",
       "      <td>When all we have anymore is pretty much realit...</td>\n",
       "    </tr>\n",
       "    <tr>\n",
       "      <td>24997</td>\n",
       "      <td>0</td>\n",
       "      <td>The basic genre is a thriller intercut with an...</td>\n",
       "    </tr>\n",
       "    <tr>\n",
       "      <td>24998</td>\n",
       "      <td>0</td>\n",
       "      <td>Four things intrigued me as to this film - fir...</td>\n",
       "    </tr>\n",
       "    <tr>\n",
       "      <td>24999</td>\n",
       "      <td>0</td>\n",
       "      <td>David Bryce's comments nearby are exceptionall...</td>\n",
       "    </tr>\n",
       "  </tbody>\n",
       "</table>\n",
       "<p>25000 rows × 2 columns</p>\n",
       "</div>"
      ],
      "text/plain": [
       "       Target                                               Text\n",
       "0           1  I went and saw this movie last night after bei...\n",
       "1           1  Actor turned director Bill Paxton follows up h...\n",
       "2           1  As a recreational golfer with some knowledge o...\n",
       "3           1  I saw this film in a sneak preview, and it is ...\n",
       "4           1  Bill Paxton has taken the true story of the 19...\n",
       "...       ...                                                ...\n",
       "24995       0  I occasionally let my kids watch this garbage ...\n",
       "24996       0  When all we have anymore is pretty much realit...\n",
       "24997       0  The basic genre is a thriller intercut with an...\n",
       "24998       0  Four things intrigued me as to this film - fir...\n",
       "24999       0  David Bryce's comments nearby are exceptionall...\n",
       "\n",
       "[25000 rows x 2 columns]"
      ]
     },
     "execution_count": 7,
     "metadata": {},
     "output_type": "execute_result"
    }
   ],
   "source": [
    "test_df"
   ]
  },
  {
   "cell_type": "code",
   "execution_count": 8,
   "metadata": {},
   "outputs": [
    {
     "data": {
      "text/plain": [
       "(24904, 24801, 49705)"
      ]
     },
     "execution_count": 8,
     "metadata": {},
     "output_type": "execute_result"
    }
   ],
   "source": [
    "train_df = train_df.drop_duplicates()\n",
    "test_df = test_df.drop_duplicates()\n",
    "\n",
    "len(train_df), len(test_df), len(train_df) + len(test_df)"
   ]
  },
  {
   "cell_type": "code",
   "execution_count": 10,
   "metadata": {},
   "outputs": [],
   "source": [
    "train_df.to_pickle('dataset/train.pkl') #Pkl, because it is way faster in reading\n",
    "test_df.to_pickle('dataset/test.pkl')"
   ]
  },
  {
   "cell_type": "code",
   "execution_count": 38,
   "metadata": {},
   "outputs": [
    {
     "data": {
      "text/html": [
       "<div>\n",
       "<style scoped>\n",
       "    .dataframe tbody tr th:only-of-type {\n",
       "        vertical-align: middle;\n",
       "    }\n",
       "\n",
       "    .dataframe tbody tr th {\n",
       "        vertical-align: top;\n",
       "    }\n",
       "\n",
       "    .dataframe thead th {\n",
       "        text-align: right;\n",
       "    }\n",
       "</style>\n",
       "<table border=\"1\" class=\"dataframe\">\n",
       "  <thead>\n",
       "    <tr style=\"text-align: right;\">\n",
       "      <th></th>\n",
       "      <th>Target</th>\n",
       "      <th>Text</th>\n",
       "    </tr>\n",
       "  </thead>\n",
       "  <tbody>\n",
       "    <tr>\n",
       "      <td>21006</td>\n",
       "      <td>0</td>\n",
       "      <td>There was a time when Joel Schumacher was rank...</td>\n",
       "    </tr>\n",
       "    <tr>\n",
       "      <td>4873</td>\n",
       "      <td>1</td>\n",
       "      <td>This little picture succeeds where many a big ...</td>\n",
       "    </tr>\n",
       "    <tr>\n",
       "      <td>16109</td>\n",
       "      <td>0</td>\n",
       "      <td>Just watched on UbuWeb this early experimental...</td>\n",
       "    </tr>\n",
       "    <tr>\n",
       "      <td>18464</td>\n",
       "      <td>0</td>\n",
       "      <td>What a waste of great acting talent. This is a...</td>\n",
       "    </tr>\n",
       "    <tr>\n",
       "      <td>16595</td>\n",
       "      <td>0</td>\n",
       "      <td>This movie plays out like an English version o...</td>\n",
       "    </tr>\n",
       "    <tr>\n",
       "      <td>4309</td>\n",
       "      <td>1</td>\n",
       "      <td>I first saw this movie at least thirty years a...</td>\n",
       "    </tr>\n",
       "    <tr>\n",
       "      <td>696</td>\n",
       "      <td>1</td>\n",
       "      <td>I totally disagree with the comments of one of...</td>\n",
       "    </tr>\n",
       "  </tbody>\n",
       "</table>\n",
       "</div>"
      ],
      "text/plain": [
       "       Target                                               Text\n",
       "21006       0  There was a time when Joel Schumacher was rank...\n",
       "4873        1  This little picture succeeds where many a big ...\n",
       "16109       0  Just watched on UbuWeb this early experimental...\n",
       "18464       0  What a waste of great acting talent. This is a...\n",
       "16595       0  This movie plays out like an English version o...\n",
       "4309        1  I first saw this movie at least thirty years a...\n",
       "696         1  I totally disagree with the comments of one of..."
      ]
     },
     "execution_count": 38,
     "metadata": {},
     "output_type": "execute_result"
    }
   ],
   "source": [
    "s = test_df.sample(frac=0.0003)\n",
    "s['Text'] = s['Text'].apply(lambda a: a[0:200] + '...')\n",
    "s.to_csv('example.csv', index=False)\n",
    "s"
   ]
  }
 ],
 "metadata": {
  "kernelspec": {
   "display_name": "Python 3",
   "language": "python",
   "name": "python3"
  },
  "language_info": {
   "codemirror_mode": {
    "name": "ipython",
    "version": 3
   },
   "file_extension": ".py",
   "mimetype": "text/x-python",
   "name": "python",
   "nbconvert_exporter": "python",
   "pygments_lexer": "ipython3",
   "version": "3.7.4"
  }
 },
 "nbformat": 4,
 "nbformat_minor": 2
}
